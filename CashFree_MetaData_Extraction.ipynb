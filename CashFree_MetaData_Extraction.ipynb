#DO NOT CHANGE THE PROGRAM UNLESS NEEDED. ONLY THE NAME SHOULD BE GIVEN IN LINE 5
import pandas
import csv
#Enter the input file name below
file_path = "ieee_rset_1st-Feb_28th-Feb_cfIdSummary_part-1.csv"#<here>
df = pandas.read_csv(file_path)

df = df['Meta']
unwanted_data = [' ', '']

#Enter the name of csv file required below  
filename = "IEEE Memebership Sorted.csv"

with open(filename, 'w', newline='') as csvfile:
    csvwriter = csv.writer(csvfile)
    fields = ['whatsapp number', ' semester', 'section', 'last_name', 'ieee number', 'first_name', 'email_id', 'department'] 
    csvwriter.writerow(fields)

    for i in df:
        row=[]
        values = i.split("|")
        values = [elements for elements in values if elements not in unwanted_data]
        for j in values:
            l1= j.split(":")[1]
            row.append(l1)
        row = [row]
        csvwriter.writerows(row)
